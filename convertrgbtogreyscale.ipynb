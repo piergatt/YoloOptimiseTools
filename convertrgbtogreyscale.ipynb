{
 "cells": [
  {
   "cell_type": "markdown",
   "id": "776a9c38",
   "metadata": {},
   "source": [
    "# Script to convert RGB images to Greyscale"
   ]
  },
  {
   "cell_type": "code",
   "execution_count": 1,
   "id": "cc6add97-7f4d-4b70-85fc-fd4baa1d301c",
   "metadata": {
    "tags": []
   },
   "outputs": [
    {
     "name": "stderr",
     "output_type": "stream",
     "text": [
      "Processing files: 100%|██████████| 31870/31870 [04:57<00:00, 107.10file/s]\n"
     ]
    }
   ],
   "source": [
    "import os\n",
    "import shutil\n",
    "from PIL import Image\n",
    "from tqdm import tqdm\n",
    "\n",
    "# Path to the original dataset\n",
    "source_root = 'coco2017_person/test_OIDv6'\n",
    "# Path to the greyscale dataset\n",
    "target_root = 'coco2017_gs_person/test_OIDv6'\n",
    "\n",
    "# First, count all files to process\n",
    "total_files = 0\n",
    "for root, dirs, files in os.walk(source_root):\n",
    "    total_files += len(files)\n",
    "\n",
    "# Create the target root directory if it doesn't exist\n",
    "os.makedirs(target_root, exist_ok=True)\n",
    "\n",
    "# Initialise tqdm progress bar\n",
    "with tqdm(total=total_files, desc='Processing files', unit='file') as pbar:\n",
    "    # Walk through all files and folders in the source\n",
    "    for root, dirs, files in os.walk(source_root):\n",
    "        # Compute corresponding path in the target directory\n",
    "        relative_path = os.path.relpath(root, source_root)\n",
    "        target_dir = os.path.join(target_root, relative_path)\n",
    "        os.makedirs(target_dir, exist_ok=True)\n",
    "\n",
    "        for file in files:\n",
    "            source_file = os.path.join(root, file)\n",
    "            target_file = os.path.join(target_dir, file)\n",
    "\n",
    "            if file.lower().endswith('.jpg'):\n",
    "                try:\n",
    "                    # Open image, convert to greyscale, and save\n",
    "                    with Image.open(source_file) as img:\n",
    "                        img.convert('L').save(target_file)\n",
    "                except Exception as e:\n",
    "                    print(f\"Failed to convert {source_file}: {e}\")\n",
    "            else:\n",
    "                # Copy other file types as-is\n",
    "                shutil.copy2(source_file, target_file)\n",
    "\n",
    "            # Update the progress bar\n",
    "            pbar.update(1)\n"
   ]
  },
  {
   "cell_type": "code",
   "execution_count": null,
   "id": "19090747-3755-40a5-8ef6-509cc91dc67a",
   "metadata": {},
   "outputs": [],
   "source": []
  }
 ],
 "metadata": {
  "kernelspec": {
   "display_name": "Python",
   "language": "python",
   "name": "python3"
  },
  "language_info": {
   "codemirror_mode": {
    "name": "ipython",
    "version": 3
   },
   "file_extension": ".py",
   "mimetype": "text/x-python",
   "name": "python",
   "nbconvert_exporter": "python",
   "pygments_lexer": "ipython3",
   "version": "3.10.12"
  }
 },
 "nbformat": 4,
 "nbformat_minor": 5
}
