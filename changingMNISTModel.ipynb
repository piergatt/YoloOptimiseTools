{
 "cells": [
  {
   "cell_type": "markdown",
   "id": "a70dec4a",
   "metadata": {},
   "source": [
    "# Playing around with the ST_MNIST model by ST"
   ]
  },
  {
   "cell_type": "markdown",
   "id": "db91ca09",
   "metadata": {},
   "source": [
    "## 1. Imports and function Definitions"
   ]
  },
  {
   "cell_type": "code",
   "execution_count": 9,
   "id": "e1c268ba",
   "metadata": {},
   "outputs": [],
   "source": [
    "import tensorflow as tf\n",
    "import numpy as np\n",
    "from PIL import Image\n",
    "import matplotlib.pyplot as plt\n",
    "from scipy import ndimage\n",
    "import yaml\n",
    "\n",
    "def print_2d_array(arr):\n",
    "    # make sure it’s a 2D array of ints (or cast to int for display)\n",
    "    mat = np.array(arr, dtype=int)\n",
    "    # figure out how wide the largest number is\n",
    "    width = max(len(str(v)) for v in mat.flat)\n",
    "    # print each row\n",
    "    for row in mat:\n",
    "        row_str = ', '.join(f'{v:{width}d}' for v in row)\n",
    "        print(f'[{row_str}]')"
   ]
  },
  {
   "cell_type": "markdown",
   "id": "3753ca13",
   "metadata": {},
   "source": [
    "## 2. Classnames and Model Loading"
   ]
  },
  {
   "cell_type": "code",
   "execution_count": 53,
   "id": "fde0b56b",
   "metadata": {},
   "outputs": [
    {
     "name": "stdout",
     "output_type": "stream",
     "text": [
      "expects: (None, 28, 28, 1) <dtype: 'float32'>\n",
      "0: input_1 - output shape: [(None, 28, 28, 1)]\n",
      "1: conv2d - output shape: (None, 14, 14, 16)\n",
      "2: batch_normalization - output shape: (None, 14, 14, 16)\n",
      "3: re_lu - output shape: (None, 14, 14, 16)\n",
      "4: depthwise_conv2d - output shape: (None, 14, 14, 16)\n",
      "5: batch_normalization_1 - output shape: (None, 14, 14, 16)\n",
      "6: re_lu_1 - output shape: (None, 14, 14, 16)\n",
      "7: conv2d_1 - output shape: (None, 14, 14, 32)\n",
      "8: batch_normalization_2 - output shape: (None, 14, 14, 32)\n",
      "9: re_lu_2 - output shape: (None, 14, 14, 32)\n",
      "10: depthwise_conv2d_1 - output shape: (None, 7, 7, 32)\n",
      "11: batch_normalization_3 - output shape: (None, 7, 7, 32)\n",
      "12: re_lu_3 - output shape: (None, 7, 7, 32)\n",
      "13: conv2d_2 - output shape: (None, 7, 7, 64)\n",
      "14: batch_normalization_4 - output shape: (None, 7, 7, 64)\n",
      "15: re_lu_4 - output shape: (None, 7, 7, 64)\n",
      "16: global_average_pooling2d - output shape: (None, 64)\n",
      "17: dropout - output shape: (None, 64)\n",
      "18: dense - output shape: (None, 36)\n"
     ]
    }
   ],
   "source": [
    "# — load class names\n",
    "cfg = yaml.safe_load(open('models/MNIST/st_mnist_v1_28_tfs_config.yaml'))\n",
    "class_names = cfg['dataset']['class_names']\n",
    "\n",
    "# - load model\n",
    "model = tf.keras.models.load_model('models/MNIST/st_mnist_v1_28_tfs.h5')\n",
    "print(\"expects:\", model.input_shape, model.input.dtype)\n",
    "\n",
    "# - view all model layers\n",
    "for i, layer in enumerate(model.layers):\n",
    "    print(f\"{i}: {layer.name} - output shape: {layer.output_shape}\")"
   ]
  },
  {
   "cell_type": "markdown",
   "id": "39ddc451",
   "metadata": {},
   "source": [
    "## 3. Loading and Preprocessing the image"
   ]
  },
  {
   "cell_type": "code",
   "execution_count": 54,
   "id": "ae8b9bd3",
   "metadata": {},
   "outputs": [
    {
     "data": {
      "image/png": "[encoded data removed]",
      "text/plain": [
       "<Figure size 640x480 with 1 Axes>"
      ]
     },
     "metadata": {},
     "output_type": "display_data"
    },
    {
     "data": {
      "image/png": "[encoded data removed]",
      "text/plain": [
       "<Figure size 640x480 with 1 Axes>"
      ]
     },
     "metadata": {},
     "output_type": "display_data"
    },
    {
     "name": "stdout",
     "output_type": "stream",
     "text": [
      "[-1, -1, -1, -1, -1, -1, -1, -1, -1, -1, -1, -1, -1, -1, -1, -1, -1, -1, -1, -1, -1, -1, -1, -1, -1, -1, -1, -1]\n",
      "[-1, -1, -1, -1, -1, -1, -1, -1, -1, -1, -1, -1, -1, -1, -1, -1, -1, -1, -1, -1, -1, -1, -1, -1, -1, -1, -1, -1]\n",
      "[-1, -1, -1, -1, -1, -1, -1, -1, -1, -1, -1, -1, -1, -1, -1, -1, -1, -1, -1, -1, -1, -1, -1, -1, -1, -1, -1, -1]\n",
      "[-1, -1, -1, -1, -1, -1, -1, -1, -1, -1, -1, -1, -1, -1, -1, -1, -1, -1, -1, -1, -1, -1, -1, -1, -1, -1, -1, -1]\n",
      "[-1, -1, -1, -1, -1, -1, -1, -1, -1, -1, -1, -1, -1, -1, -1, -1,  0,  0,  1,  0,  0,  0,  0, -1, -1, -1, -1, -1]\n",
      "[-1, -1, -1, -1, -1, -1, -1, -1, -1, -1, -1, -1, -1, -1, -1, -1,  0,  0,  0,  0,  0,  0,  0, -1, -1, -1, -1, -1]\n",
      "[-1, -1, -1, -1, -1, -1, -1, -1, -1, -1, -1, -1, -1,  0,  0,  0,  0,  0,  0,  0,  0,  0,  0,  0, -1, -1, -1, -1]\n",
      "[-1, -1, -1, -1, -1, -1, -1, -1, -1, -1, -1,  0,  0,  0,  0,  0,  0,  0, -1, -1,  0,  0,  0,  0,  0, -1, -1, -1]\n",
      "[-1, -1, -1, -1, -1, -1, -1, -1, -1,  0,  0,  0,  0,  0,  0,  0,  1, -1, -1,  0,  0,  0,  0,  0,  0, -1, -1, -1]\n",
      "[-1, -1, -1, -1, -1, -1, -1, -1,  0,  0,  0,  0,  0,  0,  0,  0,  0,  0,  0,  0,  0,  0,  0,  0,  0, -1, -1, -1]\n",
      "[-1, -1, -1, -1, -1, -1,  1,  0,  0,  0,  0,  0,  0,  0,  0,  0,  0,  0,  0,  0,  0,  0,  0,  0,  0, -1, -1, -1]\n",
      "[-1, -1, -1, -1,  0,  0,  0,  0,  0,  0,  0,  0,  0,  0,  0,  0,  0,  0,  0,  0,  0,  0,  0,  0,  0, -1, -1, -1]\n",
      "[-1, -1, -1, -1,  0,  0,  0,  0,  0,  0,  0,  0,  0,  0,  0,  0, -1, -1,  0,  0,  0,  0,  0,  0,  0, -1, -1, -1]\n",
      "[-1, -1, -1,  1,  0,  0,  0,  0,  0,  0,  0,  0,  0,  0, -1, -1, -1, -1,  0,  0,  0,  0,  0,  0,  0, -1, -1, -1]\n",
      "[-1, -1, -1,  0,  0,  0,  0,  0,  0,  0,  0,  0,  0, -1, -1, -1, -1, -1, -1,  0,  0,  0,  0,  0,  0, -1, -1, -1]\n",
      "[-1, -1,  1,  0,  0,  0,  0,  0,  0,  0,  0,  0, -1, -1, -1, -1, -1, -1, -1,  0,  0,  0,  0,  0,  0, -1, -1, -1]\n",
      "[-1, -1,  1,  0,  0,  0,  0,  0,  0,  0,  0, -1, -1, -1, -1, -1, -1,  1,  0,  0,  0,  0,  0,  0,  0, -1, -1, -1]\n",
      "[-1, -1,  1,  0,  0,  0,  0,  0,  0,  0,  0,  0,  0, -1, -1, -1,  0,  0,  0,  0,  0,  0,  0,  0,  0, -1, -1, -1]\n",
      "[-1, -1,  1,  0,  0,  0, -1,  0,  0,  0,  0,  0,  0,  0, -1, -1,  0,  0,  0,  0,  0,  0,  0,  0,  0, -1, -1, -1]\n",
      "[-1, -1,  1,  0,  0,  0, -1, -1,  0,  0,  0,  0,  0,  0, -1, -1,  0,  0,  0,  0,  0,  0,  0,  0,  0, -1, -1, -1]\n",
      "[-1, -1, -1,  0,  0,  0,  0,  0,  0,  0, -1,  0,  0,  0,  1,  0,  0,  0,  0,  0,  0,  0,  0,  0, -1, -1, -1, -1]\n",
      "[-1, -1, -1, -1,  1,  1,  0,  0,  0,  0,  0,  0,  0,  0, -1, -1,  0,  0,  0,  0,  0,  0, -1, -1, -1, -1, -1, -1]\n",
      "[-1, -1, -1, -1, -1, -1,  1,  1,  0, -1, -1,  0,  0,  0, -1,  0,  0,  0,  0,  0, -1, -1, -1, -1, -1, -1, -1, -1]\n",
      "[-1, -1, -1, -1, -1, -1, -1, -1, -1, -1, -1, -1,  0, -1, -1, -1,  0, -1, -1, -1, -1, -1, -1, -1, -1, -1, -1, -1]\n",
      "[-1, -1, -1, -1, -1, -1, -1, -1, -1, -1, -1, -1, -1, -1, -1, -1, -1, -1, -1, -1, -1, -1, -1, -1, -1, -1, -1, -1]\n",
      "[-1, -1, -1, -1, -1, -1, -1, -1, -1, -1, -1, -1, -1, -1, -1, -1, -1, -1, -1, -1, -1, -1, -1, -1, -1, -1, -1, -1]\n",
      "[-1, -1, -1, -1, -1, -1, -1, -1, -1, -1, -1, -1, -1, -1, -1, -1, -1, -1, -1, -1, -1, -1, -1, -1, -1, -1, -1, -1]\n",
      "[-1, -1, -1, -1, -1, -1, -1, -1, -1, -1, -1, -1, -1, -1, -1, -1, -1, -1, -1, -1, -1, -1, -1, -1, -1, -1, -1, -1]\n",
      "raw→ 0 255 pre→ -1.0 1.0\n"
     ]
    }
   ],
   "source": [
    "# — preprocess\n",
    "img = Image.open('testImages/MNIST/azero.png') \\\n",
    "          .convert('L') \\\n",
    "          .resize((28,28), Image.NEAREST)\n",
    "raw = np.array(img, np.uint8)\n",
    "plt.imshow(raw, cmap='gray')\n",
    "plt.show()\n",
    "# - kind of replicating the GenX320 camera\n",
    "raw = np.abs(np.diff(raw, axis=1))\n",
    "raw = np.pad(raw, ((0,0),(1,0)), mode='constant')\n",
    "raw = 255 - raw\n",
    "plt.imshow(raw, cmap='gray')\n",
    "plt.show()\n",
    "\n",
    "# - it needs to be inverted for the model\n",
    "raw_inv = 255 - raw\n",
    "\n",
    "# - changing image to look like the training data\n",
    "pre = raw_inv.astype(np.float32)/127.5 - 1.0\n",
    "print_2d_array(pre)\n",
    "print(\"raw→\", raw.min(), raw.max(), \"pre→\", pre.min(), pre.max())\n",
    "inp = pre.reshape((1,28,28,1))\n"
   ]
  },
  {
   "cell_type": "markdown",
   "id": "3012502c",
   "metadata": {},
   "source": [
    "## 4. Viewing Each Layer"
   ]
  },
  {
   "cell_type": "markdown",
   "id": "2b4403e8",
   "metadata": {},
   "source": [
    "### a. Getting Layer outputs for the input image"
   ]
  },
  {
   "cell_type": "code",
   "execution_count": 49,
   "id": "c042d91e",
   "metadata": {},
   "outputs": [],
   "source": [
    "layer_outputs = [layer.output for layer in model.layers]\n",
    "activation_model = tf.keras.models.Model(inputs=model.input, outputs=layer_outputs)\n",
    "activations = activation_model.predict(inp)"
   ]
  },
  {
   "cell_type": "markdown",
   "id": "692cf039",
   "metadata": {},
   "source": [
    "### b. Output the layer ouputs you would like"
   ]
  },
  {
   "cell_type": "code",
   "execution_count": 50,
   "id": "125b1757",
   "metadata": {},
   "outputs": [
    {
     "data": {
      "image/png": "[encoded data removed]",
      "text/plain": [
       "<Figure size 1000x1000 with 16 Axes>"
      ]
     },
     "metadata": {},
     "output_type": "display_data"
    }
   ],
   "source": [
    "# relu_activations should be shape: (1, 14, 14, 16)\n",
    "feature_maps = activations[3][0]  # Remove batch dimension\n",
    "\n",
    "num_filters = feature_maps.shape[-1]\n",
    "grid_size = int(num_filters ** 0.5)  # Assuming square grid (e.g., 4x4)\n",
    "\n",
    "plt.figure(figsize=(10, 10))\n",
    "for i in range(num_filters):\n",
    "    plt.subplot(grid_size, grid_size, i + 1)\n",
    "    plt.imshow(feature_maps[:, :, i], cmap='viridis')\n",
    "    plt.title(f'Filter {i}', fontsize=10)\n",
    "    plt.axis('off')\n",
    "\n",
    "plt.tight_layout()\n",
    "plt.show()"
   ]
  },
  {
   "cell_type": "markdown",
   "id": "e6635e0f",
   "metadata": {},
   "source": [
    "## 5. Using the model to predict"
   ]
  },
  {
   "cell_type": "code",
   "execution_count": 51,
   "id": "6c950f39",
   "metadata": {},
   "outputs": [
    {
     "name": "stdout",
     "output_type": "stream",
     "text": [
      "predicted: 0 → 0\n",
      "top-5:\n",
      "   0: 0.4213\n",
      "   O: 0.2809\n",
      "   C: 0.1168\n",
      "   Q: 0.1051\n",
      "   G: 0.0194\n"
     ]
    }
   ],
   "source": [
    "# — predict\n",
    "probs = model.predict(inp)[0]\n",
    "idx   = int(np.argmax(probs))\n",
    "print(f\"predicted: {idx} → {class_names[idx]}\")\n",
    "print(\"top-5:\")\n",
    "for i in np.argsort(probs)[-5:][::-1]:\n",
    "    print(f\"  {class_names[i]:>2}: {probs[i]:.4f}\")"
   ]
  },
  {
   "cell_type": "markdown",
   "id": "c527fab9",
   "metadata": {},
   "source": [
    "## 5. Testing with TFlite file used in ST"
   ]
  },
  {
   "cell_type": "code",
   "execution_count": 149,
   "id": "8be25a9e",
   "metadata": {},
   "outputs": [
    {
     "name": "stdout",
     "output_type": "stream",
     "text": [
      "Model expects: [ 1 28 28  1] <class 'numpy.uint8'>\n",
      "Predicted: 24 → O\n",
      "Top-5:\n",
      "   O : 0.6484\n",
      "   0 : 0.3398\n",
      "   D : 0.0117\n",
      "   G : 0.0000\n",
      "   E : 0.0000\n"
     ]
    }
   ],
   "source": [
    "import numpy as np\n",
    "import tensorflow as tf\n",
    "from PIL import Image, ImageOps\n",
    "import yaml\n",
    "\n",
    "# 1) Load your class names\n",
    "with open('st_mnist_v1_28_tfs_config.yaml','r') as f:\n",
    "    cfg = yaml.safe_load(f)\n",
    "class_names = cfg['dataset']['class_names']\n",
    "\n",
    "# 2) Load & prepare the TFLite interpreter\n",
    "interpreter = tf.lite.Interpreter('st_mnist_v1_28_tfs_int8.tflite')\n",
    "interpreter.allocate_tensors()\n",
    "inp_detail = interpreter.get_input_details()[0]\n",
    "out_detail = interpreter.get_output_details()[0]\n",
    "\n",
    "print(\"Model expects:\", inp_detail['shape'], inp_detail['dtype'])\n",
    "# e.g. [1,28,28,1], uint8\n",
    "\n",
    "# 3) Load, invert, and reshape your image\n",
    "img = Image.open('azero.png') \\\n",
    "          .convert('L') \\\n",
    "          .resize((28,28), Image.NEAREST)\n",
    "\n",
    "# invert black/white\n",
    "img_inv = ImageOps.invert(img)\n",
    "\n",
    "raw = np.array(img_inv, dtype=np.uint8)      # shape (28,28)\n",
    "data = raw.reshape((1,28,28,1))               # shape (1,28,28,1)\n",
    "\n",
    "# sanity-check:\n",
    "assert data.dtype == inp_detail['dtype']\n",
    "assert data.shape == tuple(inp_detail['shape'])\n",
    "\n",
    "# 4) Run inference\n",
    "interpreter.set_tensor(inp_detail['index'], data)\n",
    "interpreter.invoke()\n",
    "probs = interpreter.get_tensor(out_detail['index'])[0]\n",
    "\n",
    "# 5) Decode prediction\n",
    "idx = int(np.argmax(probs))\n",
    "print(f\"Predicted: {idx} → {class_names[idx]}\")\n",
    "print(\"Top-5:\")\n",
    "for i in np.argsort(probs)[-5:][::-1]:\n",
    "    print(f\"  {class_names[i]:>2} : {probs[i]:.4f}\")\n"
   ]
  }
 ],
 "metadata": {
  "kernelspec": {
   "display_name": "Python 3",
   "language": "python",
   "name": "python3"
  },
  "language_info": {
   "codemirror_mode": {
    "name": "ipython",
    "version": 3
   },
   "file_extension": ".py",
   "mimetype": "text/x-python",
   "name": "python",
   "nbconvert_exporter": "python",
   "pygments_lexer": "ipython3",
   "version": "3.10.0"
  }
 },
 "nbformat": 4,
 "nbformat_minor": 5
}
