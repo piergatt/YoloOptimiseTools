{
 "cells": [
  {
   "cell_type": "markdown",
   "id": "72dd6dff",
   "metadata": {},
   "source": [
    "# Script to convert OIDv6 labels to YOLO Format"
   ]
  },
  {
   "cell_type": "code",
   "execution_count": 2,
   "id": "6364ed71-4066-4120-a445-d2e80748d151",
   "metadata": {
    "tags": []
   },
   "outputs": [
    {
     "name": "stderr",
     "output_type": "stream",
     "text": [
      "Converting to YOLO: 100%|██████████| 21688/21688 [04:10<00:00, 86.60file/s] \n"
     ]
    }
   ],
   "source": [
    "import os\n",
    "import shutil\n",
    "from PIL import Image\n",
    "from tqdm import tqdm\n",
    "\n",
    "# Paths\n",
    "imgs_dir    = 'OID_Person/OIDv6/test/person'\n",
    "labels_dir  = 'OID_Person/OIDv6/test/person/labels'\n",
    "out_dir     = 'coco2017_person/test'\n",
    "\n",
    "# Make sure output dir exists\n",
    "os.makedirs(out_dir, exist_ok=True)\n",
    "\n",
    "# Map your class names to YOLO indices\n",
    "class_map = {'person': 0}\n",
    "\n",
    "# Gather all label files\n",
    "label_files = [f for f in os.listdir(labels_dir) if f.endswith('.txt')]\n",
    "\n",
    "for fname in tqdm(label_files, desc='Converting to YOLO', unit='file'):\n",
    "    img_id    = os.path.splitext(fname)[0]\n",
    "    img_src   = os.path.join(imgs_dir,   img_id + '.jpg')\n",
    "    label_in  = os.path.join(labels_dir, fname)\n",
    "    label_out = os.path.join(out_dir,     fname)\n",
    "\n",
    "    # Load image size\n",
    "    with Image.open(img_src) as img:\n",
    "        W, H = img.size\n",
    "\n",
    "    lines_out = []\n",
    "    with open(label_in) as f:\n",
    "        for line in f:\n",
    "            cls, xmin, ymin, xmax, ymax = line.split()\n",
    "            xmin, ymin, xmax, ymax = map(float, (xmin, ymin, xmax, ymax))\n",
    "\n",
    "            # Compute centre-based, normalised coords\n",
    "            cx = (xmin + xmax) / 2.0\n",
    "            cy = (ymin + ymax) / 2.0\n",
    "            w  = xmax - xmin\n",
    "            h  = ymax - ymin\n",
    "\n",
    "            x_norm = cx / W\n",
    "            y_norm = cy / H\n",
    "            w_norm = w  / W\n",
    "            h_norm = h  / H\n",
    "\n",
    "            idx = class_map[cls]\n",
    "            lines_out.append(f\"{idx} {x_norm:.6f} {y_norm:.6f} {w_norm:.6f} {h_norm:.6f}\")\n",
    "\n",
    "    # Write YOLO-style label\n",
    "    with open(label_out, 'w') as f:\n",
    "        f.write(\"\\n\".join(lines_out))\n",
    "\n",
    "    # Copy image alongside its label in the same directory\n",
    "    img_dst = os.path.join(out_dir, img_id + '.jpg')\n",
    "    shutil.copyfile(img_src, img_dst)\n"
   ]
  },
  {
   "cell_type": "code",
   "execution_count": null,
   "id": "9858822d-8336-411b-a197-da675789e0f4",
   "metadata": {},
   "outputs": [],
   "source": []
  }
 ],
 "metadata": {
  "kernelspec": {
   "display_name": "Python",
   "language": "python",
   "name": "python3"
  },
  "language_info": {
   "codemirror_mode": {
    "name": "ipython",
    "version": 3
   },
   "file_extension": ".py",
   "mimetype": "text/x-python",
   "name": "python",
   "nbconvert_exporter": "python",
   "pygments_lexer": "ipython3",
   "version": "3.10.12"
  }
 },
 "nbformat": 4,
 "nbformat_minor": 5
}
