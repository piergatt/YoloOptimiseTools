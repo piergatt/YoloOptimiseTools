{
 "cells": [
  {
   "cell_type": "markdown",
   "id": "41556d37",
   "metadata": {},
   "source": [
    "# Tool to convert Keras to TFLite without quantising them."
   ]
  },
  {
   "cell_type": "code",
   "execution_count": null,
   "id": "517800ab",
   "metadata": {},
   "outputs": [],
   "source": [
    "import tensorflow as tf\n",
    "import numpy as np"
   ]
  },
  {
   "cell_type": "code",
   "execution_count": null,
   "id": "8bf66b65",
   "metadata": {},
   "outputs": [
    {
     "name": "stdout",
     "output_type": "stream",
     "text": [
      "WARNING:tensorflow:No training configuration found in the save file, so the model was *not* compiled. Compile it manually.\n"
     ]
    },
    {
     "name": "stderr",
     "output_type": "stream",
     "text": [
      "WARNING:tensorflow:No training configuration found in the save file, so the model was *not* compiled. Compile it manually.\n"
     ]
    },
    {
     "name": "stdout",
     "output_type": "stream",
     "text": [
      "INFO:tensorflow:Assets written to: C:\\Users\\meowm\\AppData\\Local\\Temp\\tmpveg86o1p\\assets\n"
     ]
    },
    {
     "name": "stderr",
     "output_type": "stream",
     "text": [
      "INFO:tensorflow:Assets written to: C:\\Users\\meowm\\AppData\\Local\\Temp\\tmpveg86o1p\\assets\n"
     ]
    },
    {
     "name": "stdout",
     "output_type": "stream",
     "text": [
      "Data-types in model: {<class 'numpy.float32'>, <class 'numpy.int32'>}\n"
     ]
    },
    {
     "ename": "",
     "evalue": "",
     "output_type": "error",
     "traceback": [
      "\u001b[1;31mThe Kernel crashed while executing code in the current cell or a previous cell. \n",
      "\u001b[1;31mPlease review the code in the cell(s) to identify a possible cause of the failure. \n",
      "\u001b[1;31mClick <a href='https://aka.ms/vscodeJupyterKernelCrash'>here</a> for more info. \n",
      "\u001b[1;31mView Jupyter <a href='command:jupyter.viewOutput'>log</a> for further details."
     ]
    }
   ],
   "source": [
    "# 1. Load your Keras model from .h5\n",
    "model = tf.keras.models.load_model('models/YOLO_x_nano/st_yolo_x_nano_192_0.33_0.25.h5')\n",
    "\n",
    "# 2. Initialise the TFLite converter\n",
    "converter = tf.lite.TFLiteConverter.from_keras_model(model)\n",
    "\n",
    "# 3. Ensure no optimisation/quantisation is applied\n",
    "#    (this is the default, but you can be explicit)\n",
    "converter.optimizations = []\n",
    "\n",
    "# Optional: restrict to float32 to be absolutely sure\n",
    "converter.target_spec.supported_types = [tf.float32]\n",
    "\n",
    "# 4. Perform the conversion\n",
    "tflite_model = converter.convert()\n",
    "\n",
    "with open('defaultNoQuantized.tflite', 'wb') as f:\n",
    "    f.write(tflite_model)\n",
    "\n",
    "interpreter = tf.lite.Interpreter(model_path=\"defaultNoQuantized.tflite\")\n",
    "interpreter.allocate_tensors()\n",
    "# 2. Grab all tensor details\n",
    "tensor_details = interpreter.get_tensor_details()\n",
    "\n",
    "# 3. Collect the set of dtypes you see\n",
    "dtypes = {d[\"dtype\"] for d in tensor_details}\n",
    "\n",
    "print(\"Data-types in model:\", dtypes)\n",
    "# 5. Write out the .tflite file\n",
    "#with open('model.tflite', 'wb') as f:\n",
    "    #f.write(tflite_model)"
   ]
  }
 ],
 "metadata": {
  "kernelspec": {
   "display_name": "Python 3",
   "language": "python",
   "name": "python3"
  },
  "language_info": {
   "codemirror_mode": {
    "name": "ipython",
    "version": 3
   },
   "file_extension": ".py",
   "mimetype": "text/x-python",
   "name": "python",
   "nbconvert_exporter": "python",
   "pygments_lexer": "ipython3",
   "version": "3.10.0"
  }
 },
 "nbformat": 4,
 "nbformat_minor": 5
}
