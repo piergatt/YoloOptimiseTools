{
 "cells": [
  {
   "cell_type": "markdown",
   "id": "fa9f57ba",
   "metadata": {},
   "source": [
    "# Script to convert Numpy files to frames"
   ]
  },
  {
   "cell_type": "code",
   "execution_count": 3,
   "id": "c4b88db1-3b9b-4c61-b562-c2b906983b04",
   "metadata": {
    "tags": []
   },
   "outputs": [
    {
     "name": "stdout",
     "output_type": "stream",
     "text": [
      "Defaulting to user installation because normal site-packages is not writeable\n",
      "Requirement already satisfied: tqdm in /home/jovyan/.local/lib/python3.10/site-packages (4.65.0)\n"
     ]
    }
   ],
   "source": [
    "!pip install tqdm"
   ]
  },
  {
   "cell_type": "code",
   "execution_count": 12,
   "id": "d88f1a5b-8f82-46b0-b858-cad4c318a15f",
   "metadata": {},
   "outputs": [
    {
     "name": "stderr",
     "output_type": "stream",
     "text": [
      "Converting frames: 100%|██████████| 27001/27001 [1:42:46<00:00,  4.38it/s]  "
     ]
    },
    {
     "name": "stdout",
     "output_type": "stream",
     "text": [
      "All frames have been converted and saved under 'PEDRo'.\n"
     ]
    },
    {
     "name": "stderr",
     "output_type": "stream",
     "text": [
      "\n"
     ]
    }
   ],
   "source": [
    "import numpy as np\n",
    "import matplotlib.pyplot as plt\n",
    "import os\n",
    "from tqdm import tqdm\n",
    "from PIL import Image\n",
    "\n",
    "# ...existing code...\n",
    "input_root = 'numpy'\n",
    "output_root = 'PEDRo'\n",
    "resolution = (346, 260)\n",
    "\n",
    "file_list = []\n",
    "for root, dirs, files in os.walk(input_root):\n",
    "    for fname in files:\n",
    "        if fname.endswith('.npy'):\n",
    "            file_list.append((root, fname))\n",
    "\n",
    "# process with a Jupyter‐friendly progress bar\n",
    "i = 0\n",
    "for root, filename in tqdm(file_list, desc=\"Converting frames\"):\n",
    "    # if i < 1336:\n",
    "    #     i = i + 1\n",
    "    #     continue\n",
    "    rel_path    = os.path.relpath(root, input_root)\n",
    "    output_dir  = os.path.join(output_root, rel_path)\n",
    "    os.makedirs(output_dir, exist_ok=True)\n",
    "\n",
    "    npy_path = os.path.join(root, filename)\n",
    "    events   = np.load(npy_path)\n",
    "    frame    = np.zeros((resolution[1], resolution[0]), dtype=np.uint8)\n",
    "\n",
    "    for t, x, y, p in events:\n",
    "        if p == 0:\n",
    "            frame[y, x] =   0\n",
    "        else:\n",
    "            frame[y, x] = 255\n",
    "    im = Image.fromarray(frame)\n",
    "    output_file = os.path.join(output_dir, f\"{os.path.splitext(filename)[0]}.jpg\")\n",
    "    im.save(output_file, format='JPEG', quality=95)\n",
    "\n",
    "print(f\"All frames have been converted and saved under '{output_root}'.\")"
   ]
  },
  {
   "cell_type": "code",
   "execution_count": null,
   "id": "9654b0dd-7bdf-4f68-833a-aec1d0e1d9a5",
   "metadata": {},
   "outputs": [],
   "source": []
  }
 ],
 "metadata": {
  "kernelspec": {
   "display_name": "Python",
   "language": "python",
   "name": "python3"
  },
  "language_info": {
   "codemirror_mode": {
    "name": "ipython",
    "version": 3
   },
   "file_extension": ".py",
   "mimetype": "text/x-python",
   "name": "python",
   "nbconvert_exporter": "python",
   "pygments_lexer": "ipython3",
   "version": "3.10.12"
  }
 },
 "nbformat": 4,
 "nbformat_minor": 5
}
